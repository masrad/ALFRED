{
 "cells": [
  {
   "attachments": {},
   "cell_type": "markdown",
   "metadata": {},
   "source": [
    "# Pinecone Vector Generator"
   ]
  },
  {
   "attachments": {},
   "cell_type": "markdown",
   "metadata": {},
   "source": [
    "Import all possible requirements"
   ]
  },
  {
   "cell_type": "code",
   "execution_count": null,
   "metadata": {},
   "outputs": [],
   "source": [
    "import os\n",
    "from dotenv import load_dotenv\n",
    "from pathlib import Path\n",
    "from langchain.document_loaders import ReadTheDocsLoader\n",
    "from langchain.embeddings import OpenAIEmbeddings\n",
    "from langchain.text_splitter import RecursiveCharacterTextSplitter\n",
    "from langchain.vectorstores import Pinecone\n",
    "import pinecone"
   ]
  },
  {
   "attachments": {},
   "cell_type": "markdown",
   "metadata": {},
   "source": [
    "Import the environment variables (Input your own Pinecone info)"
   ]
  },
  {
   "cell_type": "code",
   "execution_count": null,
   "metadata": {},
   "outputs": [],
   "source": [
    "env_path = Path(__file__).parent / \".env\"\n",
    "load_dotenv(dotenv_path=env_path)\n",
    "PINE_API_KEY = os.getenv(\"PINE_API_KEY\")\n",
    "PINE_ENV = os.getenv(\"PINE_ENV\")"
   ]
  },
  {
   "attachments": {},
   "cell_type": "markdown",
   "metadata": {},
   "source": [
    "### Read The Docs website loader\n",
    "Use this if you want to vectorize a \"readthedocs\" based wiki"
   ]
  },
  {
   "attachments": {},
   "cell_type": "markdown",
   "metadata": {},
   "source": [
    "In the local directory, you will need to run this command to download the site locally before vectorizing:\n",
    "```\n",
    "wget -r -A.html https://python.langchain.com/en/latest/\n",
    "```"
   ]
  },
  {
   "cell_type": "code",
   "execution_count": null,
   "metadata": {},
   "outputs": [],
   "source": [
    "DOCS_URL = \"https://docs.readthedocs.io/en/stable/\"\n",
    "INDEX_NAME = \"Index-Name\""
   ]
  },
  {
   "cell_type": "code",
   "execution_count": null,
   "metadata": {},
   "outputs": [],
   "source": [
    "loader = ReadTheDocsLoader(DOCS_URL)\n",
    "raw_documents = loader.load()\n",
    "text_splitter = RecursiveCharacterTextSplitter(\n",
    "    chunk_size=1000,\n",
    "    chunk_overlap=200,\n",
    ")\n",
    "documents = text_splitter.split_documents(raw_documents)\n",
    "embeddings = OpenAIEmbeddings()\n",
    "\n",
    "pinecone.init(\n",
    "    api_key=PINE_API_KEY,\n",
    "    environment=PINE_ENV\n",
    ")\n",
    "\n",
    "index_name = INDEX_NAME\n",
    "\n",
    "docsearch = Pinecone.from_documents(documents, embeddings, index_name=index_name)"
   ]
  },
  {
   "attachments": {},
   "cell_type": "markdown",
   "metadata": {},
   "source": [
    "### Confluence site loader\n",
    "Use this if you want to vectorize a Confluence/Atlassian based wiki"
   ]
  },
  {
   "cell_type": "code",
   "execution_count": null,
   "metadata": {},
   "outputs": [],
   "source": [
    "URL = \"https://yoursite.atlassian.com/wiki\"\n",
    "USERNAME=\"yourusername\"\n",
    "APIKEY=\"yourapikey\"\n",
    "INDEX_NAME = \"Index-Name\""
   ]
  },
  {
   "cell_type": "code",
   "execution_count": null,
   "metadata": {},
   "outputs": [],
   "source": [
    "from langchain.document_loaders import ConfluenceLoader\n",
    "\n",
    "loader = ConfluenceLoader(\n",
    "    url=URL,\n",
    "    username=USERNAME,\n",
    "    api_key=APIKEY\n",
    ")\n",
    "documents = loader.load(space_key=\"SPACE\", include_attachments=True, limit=50)\n",
    "\n",
    "embeddings = OpenAIEmbeddings()\n",
    "\n",
    "pinecone.init(\n",
    "    api_key=PINE_API_KEY,\n",
    "    environment=PINE_ENV\n",
    ")\n",
    "\n",
    "index_name = INDEX_NAME\n",
    "\n",
    "docsearch = Pinecone.from_documents(documents, embeddings, index_name=index_name)"
   ]
  },
  {
   "attachments": {},
   "cell_type": "markdown",
   "metadata": {},
   "source": [
    "### CSV loader\n",
    "Use this if you want to vectorize a CSV file"
   ]
  },
  {
   "cell_type": "code",
   "execution_count": null,
   "metadata": {},
   "outputs": [],
   "source": [
    "FILEPATH=\"./path/to/your/file.csv\"\n",
    "INDEX_NAME = \"Index-Name\""
   ]
  },
  {
   "cell_type": "code",
   "execution_count": null,
   "metadata": {},
   "outputs": [],
   "source": [
    "from langchain.document_loaders.csv_loader import CSVLoader\n",
    "\n",
    "loader = CSVLoader(file_path=FILEPATH)\n",
    "data = loader.load()\n",
    "\n",
    "embeddings = OpenAIEmbeddings()\n",
    "\n",
    "pinecone.init(\n",
    "    api_key=PINE_API_KEY,\n",
    "    environment=PINE_ENV\n",
    ")\n",
    "\n",
    "index_name = INDEX_NAME\n",
    "\n",
    "docsearch = Pinecone.from_documents(data, embeddings, index_name=index_name)"
   ]
  },
  {
   "attachments": {},
   "cell_type": "markdown",
   "metadata": {},
   "source": [
    "### Git loader - Local\n",
    "Use this if you want to vectorize a local git repo"
   ]
  },
  {
   "cell_type": "code",
   "execution_count": null,
   "metadata": {},
   "outputs": [],
   "source": [
    "REMOTE_REPO=\"https://github.com/masrad/ALFRED\"\n",
    "LOCAL_PATH=\"./alfred\"\n",
    "INDEX_NAME = \"Index-Name\""
   ]
  },
  {
   "attachments": {},
   "cell_type": "markdown",
   "metadata": {},
   "source": [
    "Needs the following module:\n",
    "```\n",
    "pip install gitpython\n",
    "```"
   ]
  },
  {
   "cell_type": "code",
   "execution_count": null,
   "metadata": {},
   "outputs": [],
   "source": [
    "from git import Repo\n",
    "\n",
    "repo = Repo.clone_from(\n",
    "    REMOTE_REPO, to_path=LOCAL_PATH\n",
    ")\n",
    "branch = repo.head.reference\n",
    "\n",
    "from langchain.document_loaders import GitLoader\n",
    "loader = GitLoader(repo_path=LOCAL_PATH, branch=branch)\n",
    "data = loader.load()\n",
    "\n",
    "embeddings = OpenAIEmbeddings()\n",
    "\n",
    "pinecone.init(\n",
    "    api_key=PINE_API_KEY,\n",
    "    environment=PINE_ENV\n",
    ")\n",
    "\n",
    "index_name = INDEX_NAME\n",
    "\n",
    "docsearch = Pinecone.from_documents(data, embeddings, index_name=index_name)"
   ]
  },
  {
   "attachments": {},
   "cell_type": "markdown",
   "metadata": {},
   "source": [
    "### Git loader - Remote\n",
    "Use this if you want to vectorize a remote git repo from the URL"
   ]
  },
  {
   "cell_type": "code",
   "execution_count": null,
   "metadata": {},
   "outputs": [],
   "source": [
    "REMOTE_REPO=\"https://github.com/masrad/ALFRED\"\n",
    "LOCAL_PATH=\"./alfred\"\n",
    "BRANCH=\"master\"\n",
    "INDEX_NAME = \"Index-Name\""
   ]
  },
  {
   "cell_type": "code",
   "execution_count": null,
   "metadata": {},
   "outputs": [],
   "source": [
    "from langchain.document_loaders import GitLoader\n",
    "\n",
    "loader = GitLoader(\n",
    "    clone_url=REMOTE_REPO,\n",
    "    repo_path=LOCAL_PATH,\n",
    "    branch=BRANCH,\n",
    ")\n",
    "data = loader.load()\n",
    "\n",
    "embeddings = OpenAIEmbeddings()\n",
    "\n",
    "pinecone.init(\n",
    "    api_key=PINE_API_KEY,\n",
    "    environment=PINE_ENV\n",
    ")\n",
    "\n",
    "index_name = INDEX_NAME\n",
    "\n",
    "docsearch = Pinecone.from_documents(data, embeddings, index_name=index_name)"
   ]
  },
  {
   "attachments": {},
   "cell_type": "markdown",
   "metadata": {},
   "source": [
    "### Huggingface Dataset\n",
    "Use this if you want to vectorize a huggingface dataset"
   ]
  },
  {
   "cell_type": "code",
   "execution_count": null,
   "metadata": {},
   "outputs": [],
   "source": [
    "DATASET_NAME=\"imdb\"\n",
    "PAGE_CONTENT=\"text\"\n",
    "INDEX_NAME = \"Index-Name\""
   ]
  },
  {
   "cell_type": "code",
   "execution_count": null,
   "metadata": {},
   "outputs": [],
   "source": [
    "from langchain.document_loaders import HuggingFaceDatasetLoader\n",
    "\n",
    "dataset_name=DATASET_NAME\n",
    "page_content_column=PAGE_CONTENT\n",
    "\n",
    "\n",
    "loader=HuggingFaceDatasetLoader(dataset_name,page_content_column)\n",
    "data = loader.load()\n",
    "\n",
    "embeddings = OpenAIEmbeddings()\n",
    "\n",
    "pinecone.init(\n",
    "    api_key=PINE_API_KEY,\n",
    "    environment=PINE_ENV\n",
    ")\n",
    "\n",
    "index_name = INDEX_NAME\n",
    "\n",
    "docsearch = Pinecone.from_documents(data, embeddings, index_name=index_name)"
   ]
  },
  {
   "attachments": {},
   "cell_type": "markdown",
   "metadata": {},
   "source": [
    "### PDF File\n",
    "Use this if you want to vectorize a PDF file\n",
    "\n",
    "There are tons more ways to do this, check the docs:\n",
    "\n",
    "https://python.langchain.com/en/latest/modules/indexes/document_loaders/examples/pdf.html"
   ]
  },
  {
   "cell_type": "code",
   "execution_count": null,
   "metadata": {},
   "outputs": [],
   "source": [
    "PDF_PATH=\"./path/to/your/file.pdf\"\n",
    "INDEX_NAME = \"Index-Name\""
   ]
  },
  {
   "cell_type": "code",
   "execution_count": null,
   "metadata": {},
   "outputs": [],
   "source": [
    "from langchain.document_loaders import UnstructuredPDFLoader\n",
    "\n",
    "loader = UnstructuredPDFLoader(PDF_PATH)\n",
    "\n",
    "data = loader.load()\n",
    "\n",
    "embeddings = OpenAIEmbeddings()\n",
    "\n",
    "pinecone.init(\n",
    "    api_key=PINE_API_KEY,\n",
    "    environment=PINE_ENV\n",
    ")\n",
    "\n",
    "index_name = INDEX_NAME\n",
    "\n",
    "docsearch = Pinecone.from_documents(data, embeddings, index_name=index_name)"
   ]
  }
 ],
 "metadata": {
  "kernelspec": {
   "display_name": "venv",
   "language": "python",
   "name": "python3"
  },
  "language_info": {
   "name": "python",
   "version": "3.10.9"
  },
  "orig_nbformat": 4
 },
 "nbformat": 4,
 "nbformat_minor": 2
}
